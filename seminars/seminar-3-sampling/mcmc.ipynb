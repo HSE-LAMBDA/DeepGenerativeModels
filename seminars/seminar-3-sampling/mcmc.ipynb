{
 "cells": [
  {
   "cell_type": "markdown",
   "metadata": {},
   "source": [
    "<a href=\"https://colab.research.google.com/github/HSE-LAMBDA/DeepGenerativeModels/blob/master/seminars/seminar-3/mcmc.ipynb\" target=\"_parent\"><img src=\"https://colab.research.google.com/assets/colab-badge.svg\" alt=\"Open In Colab\"/></a>"
   ]
  },
  {
   "cell_type": "markdown",
   "metadata": {},
   "source": [
    "# MCMC. Bayesian Inference\n",
    "The bayesian inference problem is to infer posterior distribution given prior distribution and likelihood:\n",
    "$$p(\\theta|X)=\\frac{p(X|\\theta)p(\\theta)}{\\int_\\theta p(X|\\theta)p(\\theta)d\\theta}$$\n",
    "In case of simple distributions bayesian inference can be performed analytically. However, in case of complicated distributions an explicit inference is intractable (because of denominator) and some more sophisticated techniques were designed. One of them is Markov Chain Monte Carlo (MCMC) sampling. It does not provides an option to perform a bayesian inference but helps to sample from the distribution (e.g., posterior) given that distribution up to a constant (denominator)"
   ]
  },
  {
   "cell_type": "markdown",
   "metadata": {},
   "source": [
    "# Intro to Pyro\n",
    "[Pyro](https://pyro.ai) is PyTorch-based framework for bayesian inference"
   ]
  },
  {
   "cell_type": "markdown",
   "metadata": {},
   "source": [
    "## Toy example\n",
    "Let $$p(weight|guess)=\\mathcal{N}(guess,1)$$\n",
    "$$p(measurement|weight,guess)=\\mathcal{N}(weight,0.75)$$\n",
    "\n",
    "Suppose we observe that the measurement of an object was 14 (kilos). What the most likelily weight and its confidence interval is?\n",
    "\n",
    "Solution: let's sample from posterior distribution (weight given measurement) multiple times using MCMC and obtain an empirical estimations"
   ]
  },
  {
   "cell_type": "code",
   "execution_count": 1,
   "metadata": {},
   "outputs": [
    {
     "name": "stderr",
     "output_type": "stream",
     "text": [
      "Sample: 100%|██████████| 1050/1050 [00:14, 73.65it/s, step size=2.72e-01, acc. prob=0.961]"
     ]
    },
    {
     "name": "stdout",
     "output_type": "stream",
     "text": [
      "Weight: 12.560986518859863 +- 0.5782628059387207\n"
     ]
    },
    {
     "name": "stderr",
     "output_type": "stream",
     "text": [
      "\n"
     ]
    }
   ],
   "source": [
    "# !pip install pyro-ppl\n",
    "import pyro\n",
    "import torch\n",
    "from pyro.infer.mcmc import MCMC\n",
    "from pyro.infer.mcmc.nuts import HMC\n",
    "from pyro.infer import EmpiricalMarginal\n",
    "import pyro.distributions as dist\n",
    "import matplotlib.pyplot as plt\n",
    "\n",
    "\n",
    "def model(guess): # probabilistic model\n",
    "    weight = pyro.sample(\"weight\", dist.Normal(guess, 1.0))\n",
    "    measurement = pyro.sample(\"measurement\", dist.Normal(weight, 0.75))\n",
    "    return measurement\n",
    "\n",
    "# %matplotlib inline\n",
    "guess_prior = 10.\n",
    "condition = pyro.condition(model, data={\"measurement\": torch.tensor(14.)})\n",
    "\n",
    "hmc_kernel = HMC(condition, step_size=0.9, num_steps=4)\n",
    "mcmc = MCMC(hmc_kernel, \n",
    "                 num_samples=1000, \n",
    "                 warmup_steps=50)\n",
    "mcmc.run(guess_prior) # run MCMC sampling\n",
    "samples = mcmc.get_samples()['weight']\n",
    "print(f'Weight: {samples.mean().item()} +- {samples.std().item()}')"
   ]
  },
  {
   "cell_type": "markdown",
   "metadata": {},
   "source": [
    "# Links\n",
    "* [intro to Pyro and PPL](https://bookdown.org/robertness/causalml/docs/tutorial-on-deep-probabilitic-modeling-with-pyro.html)"
   ]
  },
  {
   "cell_type": "code",
   "execution_count": null,
   "metadata": {},
   "outputs": [],
   "source": []
  }
 ],
 "metadata": {
  "kernelspec": {
   "display_name": "Python 3",
   "language": "python",
   "name": "python3"
  },
  "language_info": {
   "codemirror_mode": {
    "name": "ipython",
    "version": 3
   },
   "file_extension": ".py",
   "mimetype": "text/x-python",
   "name": "python",
   "nbconvert_exporter": "python",
   "pygments_lexer": "ipython3",
   "version": "3.6.9"
  }
 },
 "nbformat": 4,
 "nbformat_minor": 2
}
