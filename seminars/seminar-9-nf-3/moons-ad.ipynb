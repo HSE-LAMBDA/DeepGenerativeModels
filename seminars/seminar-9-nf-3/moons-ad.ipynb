{
 "cells": [
  {
   "cell_type": "code",
   "execution_count": 1,
   "metadata": {},
   "outputs": [],
   "source": [
    "\n",
    "import itertools\n",
    "\n",
    "import numpy as np\n",
    "import matplotlib.pyplot as plt\n",
    "%matplotlib inline\n",
    "\n",
    "import torch\n",
    "import torch.optim as optim\n",
    "import torch.nn.functional as F\n",
    "import torch.nn.init as init\n",
    "from torch import nn\n",
    "from torch import distributions\n",
    "from torch.distributions import MultivariateNormal, Uniform, TransformedDistribution, SigmoidTransform\n",
    "from torch.nn.parameter import Parameter\n",
    "\n",
    "from nflib.flows import (\n",
    "    AffineConstantFlow, ActNorm, AffineHalfFlow, \n",
    "    SlowMAF, MAF, IAF, Invertible1x1Conv,\n",
    "    NormalizingFlow, NormalizingFlowModel,\n",
    ")\n",
    "from nflib.spline_flows import NSF_AR, NSF_CL\n",
    "\n",
    "# for auto-reloading external modules\n",
    "# see http://stackoverflow.com/questions/1907993/autoreload-of-modules-in-ipython\n",
    "%load_ext autoreload\n",
    "%autoreload 2"
   ]
  },
  {
   "cell_type": "markdown",
   "metadata": {},
   "source": [
    "Будем работать с тем же датасетом Moons. Набросаем равномерным случайным образом аномалии"
   ]
  },
  {
   "cell_type": "code",
   "execution_count": 10,
   "metadata": {},
   "outputs": [
    {
     "data": {
      "image/png": "[encoded data removed]",
      "text/plain": [
       "<Figure size 720x720 with 1 Axes>"
      ]
     },
     "metadata": {
      "needs_background": "light"
     },
     "output_type": "display_data"
    }
   ],
   "source": [
    "import pickle\n",
    "from sklearn import datasets\n",
    "\n",
    "class DatasetSIGGRAPH:\n",
    "    \"\"\" \n",
    "    haha, found from Eric https://blog.evjang.com/2018/01/nf2.html\n",
    "    https://github.com/ericjang/normalizing-flows-tutorial/blob/master/siggraph.pkl\n",
    "    \"\"\"\n",
    "    def __init__(self):\n",
    "        with open('siggraph.pkl', 'rb') as f:\n",
    "            XY = np.array(pickle.load(f), dtype=np.float32)\n",
    "            XY -= np.mean(XY, axis=0) # center\n",
    "        self.XY = torch.from_numpy(XY)\n",
    "    \n",
    "    def sample(self, n):\n",
    "        X = self.XY[np.random.randint(self.XY.shape[0], size=n)]\n",
    "        return X\n",
    "\n",
    "class DatasetMoons:\n",
    "    \"\"\" two half-moons \"\"\"\n",
    "    def sample(self, n):\n",
    "        moons = datasets.make_moons(n_samples=n, noise=0.05)[0].astype(np.float32)\n",
    "        return torch.from_numpy(moons)\n",
    "\n",
    "class DatasetMixture:\n",
    "    \"\"\" 4 mixture of gaussians \"\"\"\n",
    "    def sample(self, n):\n",
    "        assert n%4 == 0\n",
    "        r = np.r_[np.random.randn(n // 4, 2)*0.5 + np.array([0, -2]),\n",
    "                  np.random.randn(n // 4, 2)*0.5 + np.array([0, 0]),\n",
    "                  np.random.randn(n // 4, 2)*0.5 + np.array([2, 2]),\n",
    "                  np.random.randn(n // 4, 2)*0.5 + np.array([-2, 2])]\n",
    "        return torch.from_numpy(r.astype(np.float32))\n",
    "\n",
    "class DatasetAnomalies:\n",
    "    def sample(self, n):\n",
    "        return -2 + 4*torch.rand((n,2))\n",
    "\n",
    "d = DatasetMoons()\n",
    "a = DatasetAnomalies()\n",
    "#d = DatasetMixture()\n",
    "#d = DatasetSIGGRAPH()\n",
    "\n",
    "x = d.sample(128) # normal samples\n",
    "x_an = a.sample(30) # anomalies\n",
    "plt.figure(figsize=(10,10))\n",
    "plt.scatter(x[:,0], x[:,1], s=5, alpha=0.8, label='normal samples')\n",
    "plt.scatter(x_an[:,0], x_an[:,1], s=5, alpha=0.8, label='anomalies')\n",
    "plt.legend()\n",
    "plt.axis('equal');"
   ]
  },
  {
   "cell_type": "code",
   "execution_count": 11,
   "metadata": {},
   "outputs": [],
   "source": [
    "\n",
    "# construct a model\n",
    "#prior = MultivariateNormal(torch.zeros(2), torch.eye(2))\n",
    "prior = TransformedDistribution(Uniform(torch.zeros(2), torch.ones(2)), SigmoidTransform().inv) # Logistic distribution\n",
    "\n",
    "# RealNVP\n",
    "# flows = [AffineHalfFlow(dim=2, parity=i%2) for i in range(9)]\n",
    "\n",
    "# NICE\n",
    "# flows = [AffineHalfFlow(dim=2, parity=i%2, scale=False) for i in range(4)]\n",
    "# flows.append(AffineConstantFlow(dim=2, shift=False))\n",
    "\n",
    "# SlowMAF (MAF, but without any parameter sharing for each dimension's scale/shift)\n",
    "# flows = [SlowMAF(dim=2, parity=i%2) for i in range(4)]\n",
    "\n",
    "# MAF (with MADE net, so we get very fast density estimation)\n",
    "# flows = [MAF(dim=2, parity=i%2) for i in range(4)]\n",
    "\n",
    "# IAF (with MADE net, so we get very fast sampling)\n",
    "# flows = [IAF(dim=2, parity=i%2) for i in range(3)]\n",
    "\n",
    "# insert ActNorms to any of the flows above\n",
    "# norms = [ActNorm(dim=2) for _ in flows]\n",
    "# flows = list(itertools.chain(*zip(norms, flows)))\n",
    "\n",
    "# Glow paper\n",
    "# flows = [Invertible1x1Conv(dim=2) for i in range(3)]\n",
    "# norms = [ActNorm(dim=2) for _ in flows]\n",
    "# couplings = [AffineHalfFlow(dim=2, parity=i%2, nh=32) for i in range(len(flows))]\n",
    "# flows = list(itertools.chain(*zip(norms, flows, couplings))) # append a coupling layer after each 1x1\n",
    "\n",
    "# Neural splines, coupling\n",
    "nfs_flow = NSF_CL if True else NSF_AR\n",
    "flows = [nfs_flow(dim=2, K=8, B=3, hidden_dim=16) for _ in range(3)]\n",
    "convs = [Invertible1x1Conv(dim=2) for _ in flows]\n",
    "norms = [ActNorm(dim=2) for _ in flows]\n",
    "flows = list(itertools.chain(*zip(norms, convs, flows)))\n",
    "\n",
    "# construct the model\n",
    "model = NormalizingFlowModel(prior, flows)"
   ]
  },
  {
   "cell_type": "code",
   "execution_count": 12,
   "metadata": {},
   "outputs": [
    {
     "name": "stdout",
     "output_type": "stream",
     "text": [
      "number of params:  5844\n"
     ]
    }
   ],
   "source": [
    "# optimizer\n",
    "optimizer = optim.Adam(model.parameters(), lr=1e-4, weight_decay=1e-5) # todo tune WD\n",
    "print(\"number of params: \", sum(p.numel() for p in model.parameters()))"
   ]
  },
  {
   "cell_type": "markdown",
   "metadata": {},
   "source": [
    "Обучим модель"
   ]
  },
  {
   "cell_type": "code",
   "execution_count": 13,
   "metadata": {},
   "outputs": [
    {
     "data": {
      "application/vnd.jupyter.widget-view+json": {
       "model_id": "5aecf9bad6ef4d62a601e4190c53fff3",
       "version_major": 2,
       "version_minor": 0
      },
      "text/plain": [
       "HBox(children=(FloatProgress(value=0.0, description='Loss: ?', max=1000.0, style=ProgressStyle(description_wid…"
      ]
     },
     "metadata": {},
     "output_type": "display_data"
    },
    {
     "name": "stdout",
     "output_type": "stream",
     "text": [
      "\n"
     ]
    }
   ],
   "source": [
    "from tqdm.auto import tqdm\n",
    "n_epoches = 1000\n",
    "model.train()\n",
    "pbar = tqdm(range(n_epoches), desc='Loss: ?')\n",
    "for k in pbar:\n",
    "    x = d.sample(128)\n",
    "    \n",
    "    zs, prior_logprob, log_det = model(x)\n",
    "    logprob = prior_logprob + log_det\n",
    "    loss = -torch.sum(logprob) # NLL\n",
    "\n",
    "    model.zero_grad()\n",
    "    loss.backward()\n",
    "    optimizer.step()\n",
    "    \n",
    "    pbar.update(1)\n",
    "    pbar.set_description(f'Loss: {loss.item():.2f}')\n",
    "    pbar.refresh()\n",
    "pbar.close()"
   ]
  },
  {
   "cell_type": "markdown",
   "metadata": {},
   "source": [
    "Посмотрим на выученную плотность распределения"
   ]
  },
  {
   "cell_type": "code",
   "execution_count": 14,
   "metadata": {},
   "outputs": [
    {
     "data": {
      "text/plain": [
       "<matplotlib.collections.PathCollection at 0x7f6cdab74eb0>"
      ]
     },
     "execution_count": 14,
     "metadata": {},
     "output_type": "execute_result"
    },
    {
     "data": {
      "image/png": "[encoded data removed]",
      "text/plain": [
       "<Figure size 432x288 with 1 Axes>"
      ]
     },
     "metadata": {
      "needs_background": "light"
     },
     "output_type": "display_data"
    }
   ],
   "source": [
    "ng = 100\n",
    "xx, yy = np.linspace(-3, 3, ng), np.linspace(-3, 3, ng)\n",
    "xv, yv = np.meshgrid(xx, yy)\n",
    "xy = np.stack([xv, yv], axis=-1)\n",
    "xy = xy.reshape((ng*ng, 2))\n",
    "xy = torch.from_numpy(xy).float()\n",
    "zs, prior_logprob, log_det = model(xy)\n",
    "plt.scatter(xy[:,0], xy[:,1], c=(prior_logprob+log_det).detach().exp())"
   ]
  },
  {
   "cell_type": "markdown",
   "metadata": {},
   "source": [
    "**Задание 1**: Посмотрите, как отличается likelihood для нормальных объектов и аномалий (используйте гистограммы)"
   ]
  },
  {
   "cell_type": "code",
   "execution_count": 15,
   "metadata": {},
   "outputs": [
    {
     "name": "stdout",
     "output_type": "stream",
     "text": [
      "Object `? # Your code here` not found.\n"
     ]
    }
   ],
   "source": [
    "??? # Your code here"
   ]
  },
  {
   "cell_type": "markdown",
   "metadata": {},
   "source": [
    "**Задание 2**: Посмотрите на ROC AUC (при соотношении аномалий к нормальным объектам 1:1)"
   ]
  },
  {
   "cell_type": "code",
   "execution_count": null,
   "metadata": {},
   "outputs": [],
   "source": [
    "??? # Your code here"
   ]
  },
  {
   "cell_type": "markdown",
   "metadata": {},
   "source": [
    "**Задание 3**\n",
    "\n",
    "Реализуйте алгоритм поиска аномалий из статьи [WAIC, but Why?](https://arxiv.org/pdf/1810.01392.pdf)\n",
    "\n",
    "Алгоритм предельно простой и представляет собой Watanabe-Akaike Information Criterion (WAIC), оцененный по ансамблю моделей:\n",
    "$$WAIC(x)=\\mathbb{E}_\\theta\\log p_\\theta(x)-Var_\\theta\\log p_\\theta(x)$$"
   ]
  },
  {
   "cell_type": "code",
   "execution_count": 16,
   "metadata": {},
   "outputs": [
    {
     "name": "stdout",
     "output_type": "stream",
     "text": [
      "Object `? # Your code here` not found.\n"
     ]
    }
   ],
   "source": [
    "??? # Your code here"
   ]
  },
  {
   "cell_type": "code",
   "execution_count": null,
   "metadata": {},
   "outputs": [],
   "source": []
  }
 ],
 "metadata": {
  "kernelspec": {
   "display_name": "Python 3",
   "language": "python",
   "name": "python3"
  },
  "language_info": {
   "codemirror_mode": {
    "name": "ipython",
    "version": 3
   },
   "file_extension": ".py",
   "mimetype": "text/x-python",
   "name": "python",
   "nbconvert_exporter": "python",
   "pygments_lexer": "ipython3",
   "version": "3.8.5"
  }
 },
 "nbformat": 4,
 "nbformat_minor": 4
}
