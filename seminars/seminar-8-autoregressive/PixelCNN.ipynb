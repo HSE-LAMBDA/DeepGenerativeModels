{
 "cells": [
  {
   "cell_type": "code",
   "execution_count": null,
   "metadata": {},
   "outputs": [],
   "source": [
    "# collab:\n",
    "# !pip3 install torch==1.2.0+cu92 torchvision==0.4.0+cu92 -f https://download.pytorch.org/whl/torch_stable.html\n",
    "\n",
    "# Частично идея/текст этого семинара взята с седьмого семинара про авторегрессионным моделям на курсе дл у Осокина"
   ]
  },
  {
   "cell_type": "code",
   "execution_count": 1,
   "metadata": {},
   "outputs": [],
   "source": [
    "import os\n",
    "os.environ[\"CUDA_VISIBLE_DEVICES\"]=\"0\"\n",
    "\n",
    "from tqdm import tqdm_notebook as tqdm\n",
    "\n",
    "import torch\n",
    "import torch.nn as nn\n",
    "import torchvision.transforms as transforms\n",
    "import torchvision\n",
    "from torchvision import datasets\n",
    "\n",
    "import numpy as np\n",
    "import matplotlib.pyplot as plt\n",
    "\n",
    "from IPython.display import clear_output\n",
    "\n",
    "%matplotlib inline"
   ]
  },
  {
   "cell_type": "markdown",
   "metadata": {},
   "source": [
    "Код снизу:\n",
    "1. Клонит репозиторий с кодом для обработки постеров\n",
    "2. Скачивает 40к постеров\n",
    "3. Откладывает 100 постеров в валидационную папочку"
   ]
  },
  {
   "cell_type": "code",
   "execution_count": 2,
   "metadata": {},
   "outputs": [],
   "source": [
    "# !git clone https://github.com/benckx/dnn-movie-posters.git\n",
    "# !cd dnn-movie-posters && python3 ./get_data.py -download\n",
    "\n",
    "# val_files = os.listdir(data_path + '100/')[-100:]\n",
    "# os.makedirs(val_data_path, exist_ok=True)\n",
    "# os.makedirs(val_data_path + '100/', exist_ok=True)\n",
    "# for file in val_files:\n",
    "#     os.rename(data_path + '100/' + file, val_data_path + '100/'+ file)\n"
   ]
  },
  {
   "cell_type": "code",
   "execution_count": 3,
   "metadata": {},
   "outputs": [],
   "source": [
    "batch_size = 32\n",
    "device = 'cuda' if torch.cuda.is_available() else 'cpu'\n",
    "num_buckets = 10\n",
    "\n",
    "original_shape = [268, 182]\n",
    "resize_n = 3\n"
   ]
  },
  {
   "cell_type": "markdown",
   "metadata": {},
   "source": [
    "#### Задание 1:\n",
    "\n",
    "Напишите функцию, которая будет принимать на вход тензор batch x channels x width x height, где каждый элемент - int от 0 до 255, а возвращать тензор такой же размерности, но с элементами int, от 0 до 9 "
   ]
  },
  {
   "cell_type": "code",
   "execution_count": 6,
   "metadata": {},
   "outputs": [],
   "source": [
    "def bucketize(x):\n",
    "    # YOUR CODE\n",
    "    return x"
   ]
  },
  {
   "cell_type": "markdown",
   "metadata": {},
   "source": [
    "#### Задание 2:\n",
    "\n",
    "Каждое изображение - PIL IMAGE формата `3 x original_shape[0] x original_shape[1]`\n",
    "\n",
    "Необходимо:\n",
    "1. Уменьшить изображение в `resize_n` раз\n",
    "2. Перевести изображение в Grayscale, RGB - черно-белое\n",
    "3. Преобразовать PIL IMAGE в тензор\n",
    "4. Применить bucketize\n"
   ]
  },
  {
   "cell_type": "code",
   "execution_count": 11,
   "metadata": {},
   "outputs": [],
   "source": [
    "poster_transforms = transforms.Compose([ \n",
    "    # YOUR CODE\n",
    "    transforms.ToTensor(), # PIL Image -> Tensor\n",
    "    transforms.Lambda(lambda x: bucketize(x)),\n",
    "])\n"
   ]
  },
  {
   "cell_type": "code",
   "execution_count": 12,
   "metadata": {},
   "outputs": [],
   "source": [
    "data_path = \"./dnn-movie-posters/data/images/\"\n",
    "val_data_path = './dnn-movie-posters/data/val/'\n",
    "\n",
    "\n",
    "train_dataset = datasets.ImageFolder(data_path, transform=poster_transforms)\n",
    "train_loader = torch.utils.data.DataLoader(dataset=train_dataset,\n",
    "                                           batch_size=batch_size,\n",
    "                                           shuffle=True,\n",
    "                                           drop_last=True)\n",
    "\n",
    "val_dataset = datasets.ImageFolder(val_data_path, transform=poster_transforms)\n",
    "val_loader = torch.utils.data.DataLoader(val_dataset,\n",
    "                                         batch_size=batch_size,\n",
    "                                         shuffle=True,\n",
    "                                         drop_last=True)\n"
   ]
  },
  {
   "cell_type": "code",
   "execution_count": 13,
   "metadata": {},
   "outputs": [
    {
     "data": {
      "text/plain": [
       "torch.Size([32, 1, 89, 60])"
      ]
     },
     "execution_count": 13,
     "metadata": {},
     "output_type": "execute_result"
    }
   ],
   "source": [
    "image, _ = next(iter(train_loader))\n",
    "image.shape"
   ]
  },
  {
   "cell_type": "code",
   "execution_count": 18,
   "metadata": {},
   "outputs": [],
   "source": [
    "def plot_image(image, cmap=None):\n",
    "    plt.figure(figsize=(10, 10))\n",
    "    plt.imshow(image.detach().cpu().permute(1, 2, 0).squeeze(), cmap=cmap)\n",
    "    plt.show()\n"
   ]
  },
  {
   "cell_type": "code",
   "execution_count": 19,
   "metadata": {},
   "outputs": [
    {
     "data": {
      "image/png": "[encoded data removed]",
      "text/plain": [
       "<Figure size 720x720 with 1 Axes>"
      ]
     },
     "metadata": {
      "needs_background": "light"
     },
     "output_type": "display_data"
    }
   ],
   "source": [
    "plot_image(image[0], cmap='gray')"
   ]
  },
  {
   "cell_type": "markdown",
   "metadata": {},
   "source": [
    "### PixelCNN\n",
    "\n",
    "Коротко вспомним, что такое PixelCNN. Авторегрессионные модели в общем виде моделируют распределения на векторах $x = (x_1, \\ldots, x_N)$ в виде:\n",
    "\n",
    "$$\n",
    "    p(x) = \\prod_{i=1}^{N} p(x_i \\mid x_1, \\ldots, x_{i-1}).\n",
    "$$\n",
    "\n",
    "Распределения $p(x_i \\mid x_1, \\ldots, x_{i-1})$ можно моделировать при помощи моделей, которые получают на вход значения $x_1, \\ldots, x_{i-1}$ и выдают распределение вероятностей для значений $x_i$.\n",
    "\n",
    "Здесь можно использовать рекуррентные сети (например, PixelRNN), но неплохо работает и более простая модель &mdash; PixelCNN, &mdash; которая подает на вход не все значения $x_1, \\ldots, x_{i-1}$, а только соседние на некотором расстоянии с помощью сверточных слоев.\n",
    "\n",
    "![pixelcnn](https://raw.githubusercontent.com/aleju/papers/master/neural-nets/images/Conditional_Image_Generation_with_PixelCNN_Decoders__masked_convolution.png)"
   ]
  },
  {
   "cell_type": "markdown",
   "metadata": {},
   "source": [
    "#### Задача 3\n",
    "\n",
    "Напишите функцию, которая будет генерировать такую маску"
   ]
  },
  {
   "cell_type": "code",
   "execution_count": 13,
   "metadata": {},
   "outputs": [],
   "source": [
    "def make_mask(include_center, height, width):\n",
    "    mask = torch.ones(height, width).long()\n",
    "    # YOUR CODE\n",
    "    return mask"
   ]
  },
  {
   "cell_type": "code",
   "execution_count": 14,
   "metadata": {},
   "outputs": [],
   "source": [
    "class MaskedCNN(nn.Conv2d):\n",
    "    def __init__(self, include_center, *args, **kwargs):\n",
    "        super(MaskedCNN, self).__init__(*args, **kwargs)\n",
    "        self.include_center = include_center\n",
    "        self.register_buffer('mask', self.weight.data.clone())\n",
    "\n",
    "        _, depth, height, width = self.weight.size()\n",
    "        self.mask.fill_(1)\n",
    "        self.mask[:,:] = make_mask(self.include_center, height, width)\n",
    "\n",
    "    def forward(self, x):\n",
    "        self.weight.data*=self.mask\n",
    "        return super(MaskedCNN, self).forward(x)"
   ]
  },
  {
   "cell_type": "markdown",
   "metadata": {},
   "source": [
    "#### Задача 4\n",
    "\n",
    "Опишите свою модель"
   ]
  },
  {
   "cell_type": "code",
   "execution_count": 15,
   "metadata": {},
   "outputs": [],
   "source": [
    "class PixelCNN(nn.Module):\n",
    "    def __init__(self, input_channels=1, num_pixels=10):\n",
    "        super(PixelCNN,self).__init__()\n",
    "        self.layers = nn.Sequential(\n",
    "            # YOUR CODE\n",
    "        )\n",
    "    def forward(self, x):\n",
    "        x = x.float()\n",
    "        x = self.layers(x)\n",
    "        return x\n",
    "        \n",
    "    def generate_samples(self, starting_image, starting_point=(0, 0)):\n",
    "        self.eval()\n",
    "        # YOUR CODE\n",
    "        # hint, use torch.multinomial\n",
    "        return filled_image\n"
   ]
  },
  {
   "cell_type": "code",
   "execution_count": 16,
   "metadata": {},
   "outputs": [],
   "source": [
    "def plot_losses(losses):\n",
    "    plt.figure(figsize=(10, 4))\n",
    "    plt.plot(losses)\n",
    "    plt.show()"
   ]
  },
  {
   "cell_type": "code",
   "execution_count": 17,
   "metadata": {},
   "outputs": [],
   "source": [
    "model = PixelCNN().to(device)\n",
    "optimizer = torch.optim.Adam(model.parameters())\n",
    "criterion = nn.CrossEntropyLoss()"
   ]
  },
  {
   "cell_type": "code",
   "execution_count": 18,
   "metadata": {},
   "outputs": [
    {
     "data": {
      "text/plain": [
       "torch.Size([32, 10, 134, 91])"
      ]
     },
     "execution_count": 18,
     "metadata": {},
     "output_type": "execute_result"
    }
   ],
   "source": [
    "logits = model(image.to(device))\n",
    "logits.shape"
   ]
  },
  {
   "cell_type": "code",
   "execution_count": null,
   "metadata": {
    "scrolled": true
   },
   "outputs": [],
   "source": [
    "losses = []\n",
    "starting_x, starting_y = 10, 10\n",
    "\n",
    "for i in range(50):\n",
    "    model.train()\n",
    "    for ind, (image, _) in tqdm(enumerate(train_loader), total=len(train_loader), leave=False):\n",
    "        optimizer.zero_grad()\n",
    "        image = image.to(device)\n",
    "        logits = model(image)\n",
    "        loss = criterion(logits,\n",
    "                         image.long().squeeze())\n",
    "        loss.backward()\n",
    "        losses.append(loss.item())\n",
    "        optimizer.step()\n",
    "    clear_output()\n",
    "    model.eval()\n",
    "    image, _ = next(iter(val_loader))\n",
    "    starting_image = image.clone()\n",
    "    starting_image[:, :, starting_x:, starting_y:] = 0\n",
    "    sample = model.generate_samples(starting_image[:2].to(device), (starting_x, starting_y))\n",
    "    plot_image(sample[0])\n",
    "    plot_losses(losses)\n",
    "    "
   ]
  },
  {
   "cell_type": "code",
   "execution_count": 24,
   "metadata": {},
   "outputs": [
    {
     "name": "stderr",
     "output_type": "stream",
     "text": [
      "/usr/local/lib/python3.6/dist-packages/ipykernel_launcher.py:25: UserWarning: Implicit dimension choice for softmax has been deprecated. Change the call to include dim=X as an argument.\n"
     ]
    }
   ],
   "source": [
    "model.eval()\n",
    "starting_image = image[:8].clone()\n",
    "starting_image[:, :, 30:, 30:] = 0\n",
    "sample = model.generate_samples(starting_image.to(device), starting_point=(30, 30))"
   ]
  },
  {
   "cell_type": "code",
   "execution_count": 5,
   "metadata": {
    "scrolled": true
   },
   "outputs": [],
   "source": [
    "for i in sample:\n",
    "    plot_image(i, cmap='gray')"
   ]
  },
  {
   "cell_type": "markdown",
   "metadata": {},
   "source": [
    "#### Вопрос\n",
    "\n",
    "Что делать когда у нас не черно-белые, а цветные изображения?"
   ]
  },
  {
   "cell_type": "code",
   "execution_count": null,
   "metadata": {},
   "outputs": [],
   "source": []
  }
 ],
 "metadata": {
  "kernelspec": {
   "display_name": "Python 3",
   "language": "python",
   "name": "python3"
  },
  "language_info": {
   "codemirror_mode": {
    "name": "ipython",
    "version": 3
   },
   "file_extension": ".py",
   "mimetype": "text/x-python",
   "name": "python",
   "nbconvert_exporter": "python",
   "pygments_lexer": "ipython3",
   "version": "3.6.8"
  }
 },
 "nbformat": 4,
 "nbformat_minor": 2
}
