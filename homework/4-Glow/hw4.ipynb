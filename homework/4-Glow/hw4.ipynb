{
 "cells": [
  {
   "cell_type": "markdown",
   "metadata": {},
   "source": [
    "В данной домашке предлагается воспроизвести результаты статьи [ArXiv:2006.08545](https://arxiv.org/abs/2006.08545), демонстрирующей, что норм потоки на картинках при обучении в стандартном режиме привязываются к локальным участкам изображения вместо выучивания общей семантики картинок. Как следствие, лайклихуд на картинках других датасетов получается даже больше, чем на картинках обучающего датасета"
   ]
  },
  {
   "cell_type": "markdown",
   "metadata": {},
   "source": [
    "## (0.4 балла) Обучить Glow на CelebA, добиться нормального качества генерируемых картинок\n",
    "\n",
    "При невыполнении этого пункта все остальные пункты зануляются"
   ]
  },
  {
   "cell_type": "markdown",
   "metadata": {},
   "source": [
    "## (0.4 балла) Построить гистограмму лайклихудов для CelebA (train), CelebA (test), SVHN и ImageNet"
   ]
  },
  {
   "cell_type": "markdown",
   "metadata": {},
   "source": [
    "## (0.2 балла) Сравнить картинки из других датасетов (SVHN, ImageNet) с наибольшим предсказанным лайклихудом с картинками обучающего датасета (CelebA) с наименьшим. Что можно сказать об этих картинках? Почему лайклихуд первых может быть выше?"
   ]
  },
  {
   "cell_type": "code",
   "execution_count": null,
   "metadata": {},
   "outputs": [],
   "source": []
  }
 ],
 "metadata": {
  "kernelspec": {
   "display_name": "Python 3",
   "language": "python",
   "name": "python3"
  },
  "language_info": {
   "codemirror_mode": {
    "name": "ipython",
    "version": 3
   },
   "file_extension": ".py",
   "mimetype": "text/x-python",
   "name": "python",
   "nbconvert_exporter": "python",
   "pygments_lexer": "ipython3",
   "version": "3.8.5"
  }
 },
 "nbformat": 4,
 "nbformat_minor": 4
}
